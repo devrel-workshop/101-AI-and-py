{
 "cells": [
  {
   "cell_type": "markdown",
   "id": "6cd36251-0e58-4e3a-8f45-3d917b07033f",
   "metadata": {},
   "source": [
    "# Lab Intelligence Artificielle & Python 101"
   ]
  },
  {
   "cell_type": "code",
   "execution_count": null,
   "id": "f8f6a117-a8ea-4570-99fa-e3b29f30585c",
   "metadata": {},
   "outputs": [],
   "source": [
    "TODO : présenter YOLO V8 et pourquoi ce modèle"
   ]
  },
  {
   "cell_type": "markdown",
   "id": "0aebc9fe-a201-48d4-90ae-9d0f87203980",
   "metadata": {},
   "source": [
    "## Install dependencies\n",
    "\n",
    "The esiest way to use YOLO model is to install Python dependecy for ultralytics"
   ]
  },
  {
   "cell_type": "code",
   "execution_count": null,
   "id": "63770879-c84b-493f-96ae-c282a71750f0",
   "metadata": {},
   "outputs": [],
   "source": [
    "pip install ultralytics"
   ]
  },
  {
   "cell_type": "markdown",
   "id": "4a1765c5-5245-4eff-bc35-dd97a87ceaf0",
   "metadata": {},
   "source": [
    "## Test the out of the box YOLOv8 model"
   ]
  },
  {
   "cell_type": "code",
   "execution_count": 34,
   "id": "f1778eb7-9a6c-49f2-b834-820300cd5c1b",
   "metadata": {},
   "outputs": [],
   "source": [
    "from ultralytics import YOLO\n",
    "\n",
    "# Load a pretrained YOLO model (recommended for training)\n",
    "model = YOLO('yolov8n.pt')"
   ]
  },
  {
   "cell_type": "code",
   "execution_count": 37,
   "id": "2da368d6-84a8-4362-8570-7f70384c6afc",
   "metadata": {},
   "outputs": [
    {
     "name": "stderr",
     "output_type": "stream",
     "text": [
      "\n",
      "image 1/1 /workspace/data/tests/10-heart.jpg: 448x640 1 person, 1 bottle, 7.7ms\n",
      "Speed: 2.9ms preprocess, 7.7ms inference, 1.7ms postprocess per image at shape (1, 3, 640, 640)\n"
     ]
    }
   ],
   "source": [
    "result = model.predict('/workspace/data/tests/10-heart.jpg', verbose=True, conf=0.2)"
   ]
  },
  {
   "cell_type": "markdown",
   "id": "8d23a734-8e84-4aef-b814-3540079a7f8e",
   "metadata": {
    "tags": []
   },
   "source": [
    "## Transfert learning to detect gender"
   ]
  },
  {
   "cell_type": "code",
   "execution_count": null,
   "id": "15bf46a6-4cdb-4589-8e48-8655be005759",
   "metadata": {},
   "outputs": [
    {
     "name": "stderr",
     "output_type": "stream",
     "text": [
      "New https://pypi.org/project/ultralytics/8.0.112 available 😃 Update with 'pip install -U ultralytics'\n",
      "Ultralytics YOLOv8.0.111 🚀 Python-3.9.5 torch-2.0.1+cu117 CUDA:0 (Tesla V100S-PCIE-32GB, 32510MiB)\n",
      "\u001b[34m\u001b[1myolo/engine/trainer: \u001b[0mtask=detect, mode=train, model=yolov8n.pt, data=/workspace/data/cards/data.yaml, epochs=100, patience=50, batch=16, imgsz=640, save=True, save_period=-1, cache=False, device=0, workers=8, project=None, name=None, exist_ok=False, pretrained=False, optimizer=SGD, verbose=True, seed=0, deterministic=True, single_cls=False, rect=False, cos_lr=False, close_mosaic=0, resume=False, amp=True, fraction=1.0, profile=False, overlap_mask=True, mask_ratio=4, dropout=0.0, val=True, split=val, save_json=False, save_hybrid=False, conf=None, iou=0.7, max_det=300, half=False, dnn=False, plots=True, source=None, show=False, save_txt=False, save_conf=False, save_crop=False, show_labels=True, show_conf=True, vid_stride=1, line_width=None, visualize=False, augment=False, agnostic_nms=False, classes=None, retina_masks=False, boxes=True, format=torchscript, keras=False, optimize=False, int8=False, dynamic=False, simplify=False, opset=None, workspace=4, nms=False, lr0=0.01, lrf=0.01, momentum=0.937, weight_decay=0.0005, warmup_epochs=3.0, warmup_momentum=0.8, warmup_bias_lr=0.1, box=7.5, cls=0.5, dfl=1.5, pose=12.0, kobj=1.0, label_smoothing=0.0, nbs=64, hsv_h=0.015, hsv_s=0.7, hsv_v=0.4, degrees=0.0, translate=0.1, scale=0.5, shear=0.0, perspective=0.0, flipud=0.0, fliplr=0.5, mosaic=1.0, mixup=0.0, copy_paste=0.0, cfg=None, v5loader=False, tracker=botsort.yaml, save_dir=runs/detect/train6\n",
      "Overriding model.yaml nc=80 with nc=52\n",
      "\n",
      "                   from  n    params  module                                       arguments                     \n",
      "  0                  -1  1       464  ultralytics.nn.modules.conv.Conv             [3, 16, 3, 2]                 \n",
      "  1                  -1  1      4672  ultralytics.nn.modules.conv.Conv             [16, 32, 3, 2]                \n",
      "  2                  -1  1      7360  ultralytics.nn.modules.block.C2f             [32, 32, 1, True]             \n",
      "  3                  -1  1     18560  ultralytics.nn.modules.conv.Conv             [32, 64, 3, 2]                \n",
      "  4                  -1  2     49664  ultralytics.nn.modules.block.C2f             [64, 64, 2, True]             \n",
      "  5                  -1  1     73984  ultralytics.nn.modules.conv.Conv             [64, 128, 3, 2]               \n",
      "  6                  -1  2    197632  ultralytics.nn.modules.block.C2f             [128, 128, 2, True]           \n",
      "  7                  -1  1    295424  ultralytics.nn.modules.conv.Conv             [128, 256, 3, 2]              \n",
      "  8                  -1  1    460288  ultralytics.nn.modules.block.C2f             [256, 256, 1, True]           \n",
      "  9                  -1  1    164608  ultralytics.nn.modules.block.SPPF            [256, 256, 5]                 \n",
      " 10                  -1  1         0  torch.nn.modules.upsampling.Upsample         [None, 2, 'nearest']          \n",
      " 11             [-1, 6]  1         0  ultralytics.nn.modules.conv.Concat           [1]                           \n",
      " 12                  -1  1    148224  ultralytics.nn.modules.block.C2f             [384, 128, 1]                 \n",
      " 13                  -1  1         0  torch.nn.modules.upsampling.Upsample         [None, 2, 'nearest']          \n",
      " 14             [-1, 4]  1         0  ultralytics.nn.modules.conv.Concat           [1]                           \n",
      " 15                  -1  1     37248  ultralytics.nn.modules.block.C2f             [192, 64, 1]                  \n",
      " 16                  -1  1     36992  ultralytics.nn.modules.conv.Conv             [64, 64, 3, 2]                \n",
      " 17            [-1, 12]  1         0  ultralytics.nn.modules.conv.Concat           [1]                           \n",
      " 18                  -1  1    123648  ultralytics.nn.modules.block.C2f             [192, 128, 1]                 \n",
      " 19                  -1  1    147712  ultralytics.nn.modules.conv.Conv             [128, 128, 3, 2]              \n",
      " 20             [-1, 9]  1         0  ultralytics.nn.modules.conv.Concat           [1]                           \n",
      " 21                  -1  1    493056  ultralytics.nn.modules.block.C2f             [384, 256, 1]                 \n",
      " 22        [15, 18, 21]  1    761452  ultralytics.nn.modules.head.Detect           [52, [64, 128, 256]]          \n",
      "Model summary: 225 layers, 3020988 parameters, 3020972 gradients\n",
      "\n",
      "Transferred 58/355 items from pretrained weights\n",
      "\u001b[34m\u001b[1mAMP: \u001b[0mrunning Automatic Mixed Precision (AMP) checks with YOLOv8n...\n",
      "\u001b[34m\u001b[1mAMP: \u001b[0mchecks passed ✅\n",
      "\u001b[34m\u001b[1moptimizer:\u001b[0m SGD(lr=0.01) with parameter groups 57 weight(decay=0.0), 64 weight(decay=0.0005), 63 bias\n",
      "\u001b[34m\u001b[1mtrain: \u001b[0mScanning /workspace/data/cards/train/labels... 35350 images, 0 backgrounds, 0 corrupt: 100%|██████████| 35350/35350 [01:27<00:00, 405.87it/s]\n",
      "\u001b[34m\u001b[1mtrain: \u001b[0mNew cache created: /workspace/data/cards/train/labels.cache\n",
      "\u001b[34m\u001b[1mval: \u001b[0mScanning /workspace/data/cards/valid/labels... 2020 images, 0 backgrounds, 0 corrupt: 100%|██████████| 2020/2020 [00:03<00:00, 519.48it/s]\n",
      "\u001b[34m\u001b[1mval: \u001b[0mNew cache created: /workspace/data/cards/valid/labels.cache\n",
      "Plotting labels to runs/detect/train6/labels.jpg... \n",
      "Image sizes 640 train, 640 val\n",
      "Using 8 dataloader workers\n",
      "Logging results to \u001b[1mruns/detect/train6\u001b[0m\n",
      "Starting training for 100 epochs...\n",
      "\n",
      "      Epoch    GPU_mem   box_loss   cls_loss   dfl_loss  Instances       Size\n",
      "      1/100      2.45G      2.021      3.686      1.412         39        640: 100%|██████████| 2210/2210 [03:34<00:00, 10.30it/s]\n",
      "                 Class     Images  Instances      Box(P          R      mAP50  mAP50-95): 100%|██████████| 64/64 [00:12<00:00,  4.96it/s]\n",
      "                   all       2020       8080      0.244      0.527      0.316       0.21\n",
      "\n",
      "      Epoch    GPU_mem   box_loss   cls_loss   dfl_loss  Instances       Size\n",
      "      2/100      2.36G       1.81      2.566       1.34        127        640:  35%|███▌      | 775/2210 [01:09<02:13, 10.78it/s]"
     ]
    }
   ],
   "source": [
    "model.train(data='/workspace/data/cards/data.yaml', device=0, epochs=100)"
   ]
  },
  {
   "cell_type": "code",
   "execution_count": null,
   "id": "3aa1d4be-076b-481b-8059-edbbe3486ed4",
   "metadata": {},
   "outputs": [],
   "source": [
    "model = YOLO('/workspace/101-ai-lab-sources/src/notebook/runs/detect/train5/weights/best.pt')\n",
    "result = model.predict('/workspace/data/gender/test/images/0-1368-_jpg.rf.94fa8f470dc66f4f090ac92120fc17c1.jpg', verbose=True, save=True, conf=0.6)"
   ]
  },
  {
   "cell_type": "markdown",
   "id": "f0913916-0ff8-4e57-95f8-c34cb4f94409",
   "metadata": {},
   "source": [
    "## Save the model"
   ]
  },
  {
   "cell_type": "code",
   "execution_count": 31,
   "id": "e78bee78-9fb0-4b4a-bcd6-9aacf997a43e",
   "metadata": {},
   "outputs": [
    {
     "data": {
      "text/plain": [
       "'/workspace/101-ai-lab-sources/src/notebook'"
      ]
     },
     "execution_count": 31,
     "metadata": {},
     "output_type": "execute_result"
    }
   ],
   "source": [
    "pwd"
   ]
  },
  {
   "cell_type": "code",
   "execution_count": 32,
   "id": "eda3240f-510d-4844-a8a9-d00861b93a88",
   "metadata": {},
   "outputs": [],
   "source": [
    "cp ./runs/detect/train6/weights/best.pt /workspace/model/cards/"
   ]
  },
  {
   "cell_type": "code",
   "execution_count": null,
   "id": "d27c6760-c731-4cc1-a41d-b388baa50eed",
   "metadata": {},
   "outputs": [],
   "source": []
  }
 ],
 "metadata": {
  "kernelspec": {
   "display_name": "Conda",
   "language": "python",
   "name": "python3"
  },
  "language_info": {
   "codemirror_mode": {
    "name": "ipython",
    "version": 3
   },
   "file_extension": ".py",
   "mimetype": "text/x-python",
   "name": "python",
   "nbconvert_exporter": "python",
   "pygments_lexer": "ipython3",
   "version": "3.9.5"
  }
 },
 "nbformat": 4,
 "nbformat_minor": 5
}
