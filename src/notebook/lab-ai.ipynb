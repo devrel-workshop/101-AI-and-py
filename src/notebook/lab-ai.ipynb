{
 "cells": [
  {
   "cell_type": "markdown",
   "id": "6cd36251-0e58-4e3a-8f45-3d917b07033f",
   "metadata": {},
   "source": [
    "# Lab Intelligence Artificielle & Python 101"
   ]
  },
  {
   "cell_type": "code",
   "execution_count": null,
   "id": "f8f6a117-a8ea-4570-99fa-e3b29f30585c",
   "metadata": {},
   "outputs": [],
   "source": [
    "TODO : présenter YOLO V8 et pourquoi ce modèle"
   ]
  },
  {
   "cell_type": "markdown",
   "id": "0aebc9fe-a201-48d4-90ae-9d0f87203980",
   "metadata": {},
   "source": [
    "## Install dependencies\n",
    "\n",
    "The esiest way to use YOLO model is to install Python dependecy for ultralytics"
   ]
  },
  {
   "cell_type": "code",
   "execution_count": null,
   "id": "63770879-c84b-493f-96ae-c282a71750f0",
   "metadata": {},
   "outputs": [],
   "source": [
    "pip install ultralytics"
   ]
  },
  {
   "cell_type": "markdown",
   "id": "4a1765c5-5245-4eff-bc35-dd97a87ceaf0",
   "metadata": {},
   "source": [
    "## Test the out of the box YOLOv8 model"
   ]
  },
  {
   "cell_type": "code",
   "execution_count": null,
   "id": "f1778eb7-9a6c-49f2-b834-820300cd5c1b",
   "metadata": {},
   "outputs": [],
   "source": [
    "from ultralytics import YOLO\n",
    "\n",
    "# Load a pretrained YOLO model (recommended for training)\n",
    "model = YOLO('yolov8n.pt')"
   ]
  },
  {
   "cell_type": "code",
   "execution_count": null,
   "id": "2da368d6-84a8-4362-8570-7f70384c6afc",
   "metadata": {},
   "outputs": [],
   "source": [
    "result = model.predict('/workspace/data/gender/test/images/0-1368-_jpg.rf.94fa8f470dc66f4f090ac92120fc17c1.jpg', verbose=True)"
   ]
  },
  {
   "cell_type": "code",
   "execution_count": null,
   "id": "15bf46a6-4cdb-4589-8e48-8655be005759",
   "metadata": {},
   "outputs": [],
   "source": [
    "model.train(data='/workspace/data/gender/data.yaml', device=0, epochs=100)"
   ]
  },
  {
   "cell_type": "markdown",
   "id": "8d23a734-8e84-4aef-b814-3540079a7f8e",
   "metadata": {},
   "source": [
    "## Transfert learning to detect gender"
   ]
  },
  {
   "cell_type": "code",
   "execution_count": null,
   "id": "3aa1d4be-076b-481b-8059-edbbe3486ed4",
   "metadata": {},
   "outputs": [],
   "source": [
    "model = YOLO('/workspace/101-ai-lab-sources/src/notebook/runs/detect/train5/weights/best.pt')\n",
    "result = model.predict('/workspace/data/gender/test/images/0-1368-_jpg.rf.94fa8f470dc66f4f090ac92120fc17c1.jpg', verbose=True, save=True, conf=0.6)"
   ]
  },
  {
   "cell_type": "markdown",
   "id": "f0913916-0ff8-4e57-95f8-c34cb4f94409",
   "metadata": {},
   "source": [
    "## Save the model"
   ]
  },
  {
   "cell_type": "code",
   "execution_count": 31,
   "id": "e78bee78-9fb0-4b4a-bcd6-9aacf997a43e",
   "metadata": {},
   "outputs": [
    {
     "data": {
      "text/plain": [
       "'/workspace/101-ai-lab-sources/src/notebook'"
      ]
     },
     "execution_count": 31,
     "metadata": {},
     "output_type": "execute_result"
    }
   ],
   "source": [
    "pwd"
   ]
  },
  {
   "cell_type": "code",
   "execution_count": 32,
   "id": "eda3240f-510d-4844-a8a9-d00861b93a88",
   "metadata": {},
   "outputs": [],
   "source": [
    "cp ./runs/detect/train5/weights/best.pt /workspace/model/gender/"
   ]
  },
  {
   "cell_type": "code",
   "execution_count": null,
   "id": "d27c6760-c731-4cc1-a41d-b388baa50eed",
   "metadata": {},
   "outputs": [],
   "source": []
  }
 ],
 "metadata": {
  "kernelspec": {
   "display_name": "Conda",
   "language": "python",
   "name": "python3"
  },
  "language_info": {
   "codemirror_mode": {
    "name": "ipython",
    "version": 3
   },
   "file_extension": ".py",
   "mimetype": "text/x-python",
   "name": "python",
   "nbconvert_exporter": "python",
   "pygments_lexer": "ipython3",
   "version": "3.9.5"
  }
 },
 "nbformat": 4,
 "nbformat_minor": 5
}
