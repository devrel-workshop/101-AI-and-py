{
 "cells": [
  {
   "cell_type": "markdown",
   "id": "6cd36251-0e58-4e3a-8f45-3d917b07033f",
   "metadata": {},
   "source": [
    "# Lab Intelligence Artificielle & Python 101"
   ]
  },
  {
   "cell_type": "code",
   "execution_count": null,
   "id": "f8f6a117-a8ea-4570-99fa-e3b29f30585c",
   "metadata": {},
   "outputs": [],
   "source": [
    "TODO : présenter YOLO V8 et pourquoi ce modèle"
   ]
  }
 ],
 "metadata": {
  "kernelspec": {
   "display_name": "Conda",
   "language": "python",
   "name": "python3"
  },
  "language_info": {
   "codemirror_mode": {
    "name": "ipython",
    "version": 3
   },
   "file_extension": ".py",
   "mimetype": "text/x-python",
   "name": "python",
   "nbconvert_exporter": "python",
   "pygments_lexer": "ipython3",
   "version": "3.9.5"
  }
 },
 "nbformat": 4,
 "nbformat_minor": 5
}
