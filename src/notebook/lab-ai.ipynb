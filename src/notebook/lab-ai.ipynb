{
 "cells": [
  {
   "cell_type": "markdown",
   "id": "6cd36251-0e58-4e3a-8f45-3d917b07033f",
   "metadata": {},
   "source": [
    "# Lab Intelligence Artificielle & Python 101"
   ]
  },
  {
   "cell_type": "code",
   "execution_count": null,
   "id": "f8f6a117-a8ea-4570-99fa-e3b29f30585c",
   "metadata": {},
   "outputs": [],
   "source": [
    "TODO : présenter YOLO V8 et pourquoi ce modèle"
   ]
  },
  {
   "cell_type": "markdown",
   "id": "0aebc9fe-a201-48d4-90ae-9d0f87203980",
   "metadata": {},
   "source": [
    "## Install dependencies\n",
    "\n",
    "The esiest way to use YOLO model is to install Python dependecy for ultralytics"
   ]
  },
  {
   "cell_type": "code",
   "execution_count": null,
   "id": "63770879-c84b-493f-96ae-c282a71750f0",
   "metadata": {},
   "outputs": [],
   "source": [
    "pip install ultralytics -U"
   ]
  },
  {
   "cell_type": "markdown",
   "id": "4a1765c5-5245-4eff-bc35-dd97a87ceaf0",
   "metadata": {},
   "source": [
    "## Test the out of the box YOLOv8 model"
   ]
  },
  {
   "cell_type": "code",
   "execution_count": null,
   "id": "f1778eb7-9a6c-49f2-b834-820300cd5c1b",
   "metadata": {},
   "outputs": [],
   "source": [
    "import ultralytics\n",
    "from ultralytics import YOLO\n",
    "\n",
    "ultralytics.checks()\n",
    "# Load a pretrained YOLO model (recommended for training)\n",
    "model = YOLO('yolov8n.pt')"
   ]
  },
  {
   "cell_type": "code",
   "execution_count": null,
   "id": "2da368d6-84a8-4362-8570-7f70384c6afc",
   "metadata": {},
   "outputs": [],
   "source": [
    "result = model.predict('/workspace/data/tests/scissor2.jpg', verbose=True, conf=0.2)"
   ]
  },
  {
   "cell_type": "markdown",
   "id": "8d23a734-8e84-4aef-b814-3540079a7f8e",
   "metadata": {
    "tags": []
   },
   "source": [
    "## Transfert learning to detect rock / paper / scissors"
   ]
  },
  {
   "cell_type": "code",
   "execution_count": null,
   "id": "15bf46a6-4cdb-4589-8e48-8655be005759",
   "metadata": {},
   "outputs": [],
   "source": [
    "result = model.train(data='/workspace/data/rock-paper-scissors/data.yaml', device=0, epochs=1)"
   ]
  },
  {
   "cell_type": "markdown",
   "id": "f0913916-0ff8-4e57-95f8-c34cb4f94409",
   "metadata": {},
   "source": [
    "## Save the model"
   ]
  },
  {
   "cell_type": "markdown",
   "id": "787b266c-5925-4099-85e0-be69f104bd8e",
   "metadata": {},
   "source": [
    "**⚠️ Update the path to the right path of your last training ⚠️**"
   ]
  },
  {
   "cell_type": "code",
   "execution_count": null,
   "id": "5e2babbd-0f4e-4981-b11c-4b05a7be266f",
   "metadata": {},
   "outputs": [],
   "source": [
    "# Export the model\n",
    "exportedModelMetaData = model.export()"
   ]
  },
  {
   "cell_type": "code",
   "execution_count": null,
   "id": "216532c2-434d-44b8-9bfa-71c4af30bec6",
   "metadata": {},
   "outputs": [],
   "source": [
    "print(exportedModelMetaData)"
   ]
  },
  {
   "cell_type": "markdown",
   "id": "5131fa16-07d4-4ad5-8149-8aa8768f691a",
   "metadata": {},
   "source": [
    "## Test the exported model"
   ]
  },
  {
   "cell_type": "code",
   "execution_count": null,
   "id": "1fc6a480-7308-4d66-b01e-482312862840",
   "metadata": {},
   "outputs": [],
   "source": [
    "# Load the exported model\n",
    "savedModel = YOLO(exportedModelMetaData)"
   ]
  },
  {
   "cell_type": "code",
   "execution_count": null,
   "id": "eda3240f-510d-4844-a8a9-d00861b93a88",
   "metadata": {},
   "outputs": [],
   "source": [
    "# Test of the exported model\n",
    "savedModel.predict('/workspace/data/tests/scissor2.jpg', verbose=True, save=True, conf=0.6)"
   ]
  },
  {
   "cell_type": "code",
   "execution_count": null,
   "id": "4f5b6890-2113-4159-a11d-3db626bfc69a",
   "metadata": {},
   "outputs": [],
   "source": []
  },
  {
   "cell_type": "code",
   "execution_count": null,
   "id": "63062515-2acf-4a38-b70c-681735b937ea",
   "metadata": {},
   "outputs": [],
   "source": []
  },
  {
   "cell_type": "code",
   "execution_count": null,
   "id": "a204df9e-cf3c-4046-a2f8-197f8da5dca0",
   "metadata": {},
   "outputs": [],
   "source": []
  }
 ],
 "metadata": {
  "kernelspec": {
   "display_name": "Conda",
   "language": "python",
   "name": "python3"
  },
  "language_info": {
   "codemirror_mode": {
    "name": "ipython",
    "version": 3
   },
   "file_extension": ".py",
   "mimetype": "text/x-python",
   "name": "python",
   "nbconvert_exporter": "python",
   "pygments_lexer": "ipython3",
   "version": "3.9.5"
  }
 },
 "nbformat": 4,
 "nbformat_minor": 5
}
